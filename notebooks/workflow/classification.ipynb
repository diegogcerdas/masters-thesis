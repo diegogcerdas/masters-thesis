{
 "cells": [
  {
   "cell_type": "code",
   "execution_count": 170,
   "metadata": {
    "metadata": {}
   },
   "outputs": [],
   "source": [
    "from transformers import pipeline\n",
    "import pandas as pd\n",
    "from tqdm import tqdm\n",
    "import numpy as np\n",
    "\n",
    "zeroshot_classifier = pipeline(\"zero-shot-classification\", model=\"MoritzLaurer/deberta-v3-base-zeroshot-v1.1-all-33\")"
   ]
  },
  {
   "cell_type": "code",
   "execution_count": 219,
   "metadata": {
    "metadata": {}
   },
   "outputs": [
    {
     "data": {
      "text/plain": [
       "{'sequence': 'dream',\n",
       " 'labels': ['event',\n",
       "  'feeling or emotion',\n",
       "  'human',\n",
       "  'manmade area',\n",
       "  'vehicle',\n",
       "  'natural area',\n",
       "  'item, tool or appliance',\n",
       "  'animal',\n",
       "  'plant',\n",
       "  'electronics',\n",
       "  'body part',\n",
       "  'clothing',\n",
       "  'furniture',\n",
       "  'food'],\n",
       " 'scores': [0.5840466022491455,\n",
       "  0.23004527390003204,\n",
       "  0.0482359416782856,\n",
       "  0.032118674367666245,\n",
       "  0.031123893335461617,\n",
       "  0.014237764291465282,\n",
       "  0.013087446801364422,\n",
       "  0.010301381349563599,\n",
       "  0.008103832602500916,\n",
       "  0.0074592577293515205,\n",
       "  0.005932874511927366,\n",
       "  0.005841523874551058,\n",
       "  0.005505830980837345,\n",
       "  0.003959634806960821]}"
      ]
     },
     "execution_count": 219,
     "metadata": {},
     "output_type": "execute_result"
    }
   ],
   "source": [
    "text = \"dream\"\n",
    "hypothesis_template = \"This word can be categorized as {}\"\n",
    "candidate_labels=[\"human\", \"animal\", \"plant\", \"vehicle\", \"food\", \"clothing\", \"body part\", \"furniture\", \"electronics\", \"item, tool or appliance\", \"manmade area\", \"natural area\", \"event\", \"feeling or emotion\"]\n",
    "\n",
    "result = zeroshot_classifier(text, candidate_labels, hypothesis_template=hypothesis_template)\n",
    "label = result['labels'][0]\n",
    "score = result['scores'][0]\n",
    "result"
   ]
  },
  {
   "cell_type": "code",
   "execution_count": 218,
   "metadata": {
    "metadata": {}
   },
   "outputs": [
    {
     "name": "stderr",
     "output_type": "stream",
     "text": [
      "  0%|          | 0/6726 [00:02<?, ?it/s]\n"
     ]
    }
   ],
   "source": [
    "hypothesis_template = \"This word can be categorized as {}\"\n",
    "candidate_labels=[\"human\", \"animal\", \"plant\", \"vehicle\", \"food\", \"clothing\", \"body part\", \"furniture\", \"electronics\", \"item, tool or appliance\", \"manmade area\", \"natural area\", \"event\", \"feeling or emotion\"]\n",
    "\n",
    "\n",
    "with open('laion_nouns.txt', 'r') as file:\n",
    "    lines = file.readlines()\n",
    "    nouns = [line.strip() for line in lines]\n",
    "\n",
    "f = 'laion_nouns_classification.csv'\n",
    "\n",
    "data = []\n",
    "\n",
    "for noun in tqdm(nouns):\n",
    "    result = zeroshot_classifier(noun, candidate_labels, hypothesis_template=hypothesis_template)\n",
    "    data_n = [noun]\n",
    "    for label in candidate_labels:\n",
    "        idx = np.where(np.array(result['labels']) == label)[0][0]\n",
    "        data_n.append(f\"{result['scores'][idx]:.3f}\")\n",
    "    data.append(data_n)\n",
    "    break\n",
    "\n",
    "data = pd.DataFrame(data, columns=['noun'] + candidate_labels)\n",
    "data.to_csv(f, index=False)"
   ]
  }
 ],
 "metadata": {
  "kernelspec": {
   "display_name": "braindive",
   "language": "python",
   "name": "python3"
  },
  "language_info": {
   "codemirror_mode": {
    "name": "ipython",
    "version": 3
   },
   "file_extension": ".py",
   "mimetype": "text/x-python",
   "name": "python",
   "nbconvert_exporter": "python",
   "pygments_lexer": "ipython3",
   "version": "3.10.13"
  }
 },
 "nbformat": 4,
 "nbformat_minor": 2
}
