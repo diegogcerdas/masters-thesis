{
 "cells": [
  {
   "cell_type": "code",
   "execution_count": 2,
   "metadata": {
    "metadata": {}
   },
   "outputs": [],
   "source": [
    "import re\n",
    "import spacy \n",
    "import enchant  \n",
    "\n",
    "nlp = spacy.load(\"en_core_web_sm\")\n",
    "d = enchant.Dict(\"en_US\")"
   ]
  },
  {
   "cell_type": "code",
   "execution_count": 3,
   "metadata": {
    "metadata": {}
   },
   "outputs": [
    {
     "name": "stdout",
     "output_type": "stream",
     "text": [
      "\n",
      "\n"
     ]
    }
   ],
   "source": [
    "f = 'laion.txt'\n",
    "with open(f, 'r') as file:\n",
    "    lines = file.readlines()\n",
    "words = [re.sub(',.*\\n', '', line) for line in lines]\n",
    "\n",
    "nouns_laion = []\n",
    "for word in words[::-1]:\n",
    "    try:\n",
    "        nlp_word = nlp(word)[0]\n",
    "        if nlp_word.pos_ == 'NOUN':\n",
    "            lemma = nlp_word.lemma_\n",
    "            if lemma not in nouns_laion and d.check(lemma):\n",
    "                nouns_laion.append(lemma)\n",
    "    except:\n",
    "        print(word)\n",
    "\n",
    "nouns_laion = [n for n in nouns_laion if len(n) > 2]\n",
    "\n",
    "f = 'mscoco.txt'\n",
    "with open(f, 'r') as file:\n",
    "    lines = file.readlines()\n",
    "words = [re.sub(',.*\\n', '', line) for line in lines]\n",
    "\n",
    "nouns_coco = []\n",
    "for word in words[::-1]:\n",
    "    try:\n",
    "        nlp_word = nlp(word)[0]\n",
    "        if nlp_word.pos_ == 'NOUN':\n",
    "            lemma = nlp_word.lemma_\n",
    "            if lemma not in nouns_coco and d.check(lemma):\n",
    "                nouns_coco.append(lemma)\n",
    "    except:\n",
    "        print(word)\n",
    "\n",
    "nouns_coco = [n for n in nouns_coco if len(n) > 2]\n",
    "\n",
    "nouns = set(nouns_laion + nouns_coco)\n",
    "nouns = sorted(nouns)\n",
    "\n",
    "f = 'nouns.txt'\n",
    "with open(f, 'w') as file:\n",
    "    file.write('\\n'.join(nouns))"
   ]
  }
 ],
 "metadata": {
  "kernelspec": {
   "display_name": "braindive",
   "language": "python",
   "name": "python3"
  },
  "language_info": {
   "codemirror_mode": {
    "name": "ipython",
    "version": 3
   },
   "file_extension": ".py",
   "mimetype": "text/x-python",
   "name": "python",
   "nbconvert_exporter": "python",
   "pygments_lexer": "ipython3",
   "version": "3.10.13"
  }
 },
 "nbformat": 4,
 "nbformat_minor": 2
}
